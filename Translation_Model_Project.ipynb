{
  "nbformat": 4,
  "nbformat_minor": 0,
  "metadata": {
    "colab": {
      "provenance": [],
      "gpuType": "T4"
    },
    "kernelspec": {
      "name": "python3",
      "display_name": "Python 3"
    },
    "language_info": {
      "name": "python"
    },
    "accelerator": "GPU"
  },
  "cells": [
    {
      "cell_type": "code",
      "execution_count": 19,
      "metadata": {
        "id": "_nLEtatyc_Dv"
      },
      "outputs": [],
      "source": [
        "! pip install datasets sacrebleu sentencepiece -q"
      ]
    },
    {
      "cell_type": "code",
      "source": [
        "model_checkpoint='facebook/mbart-large-50-many-to-many-mmt'"
      ],
      "metadata": {
        "id": "QnymNN7ndSts"
      },
      "execution_count": 20,
      "outputs": []
    },
    {
      "cell_type": "code",
      "source": [
        "from transformers import MBartForConditionalGeneration,MBart50TokenizerFast"
      ],
      "metadata": {
        "id": "YlUpbym5doHX"
      },
      "execution_count": 21,
      "outputs": []
    },
    {
      "cell_type": "code",
      "source": [
        "model=MBartForConditionalGeneration.from_pretrained(model_checkpoint)"
      ],
      "metadata": {
        "id": "gvTD3Wr0eFtf"
      },
      "execution_count": 22,
      "outputs": []
    },
    {
      "cell_type": "code",
      "source": [
        "tokenizer=MBart50TokenizerFast.from_pretrained(model_checkpoint)"
      ],
      "metadata": {
        "id": "A2eSo2gOeXiX"
      },
      "execution_count": 23,
      "outputs": []
    },
    {
      "cell_type": "code",
      "source": [
        "tokenizer('My name is Vrushabh','I like to travel')"
      ],
      "metadata": {
        "id": "As1hJTMGfAZp",
        "colab": {
          "base_uri": "https://localhost:8080/"
        },
        "outputId": "2ee80a4e-9c95-4a99-d203-a252734eb7ec"
      },
      "execution_count": 24,
      "outputs": [
        {
          "output_type": "execute_result",
          "data": {
            "text/plain": [
              "{'input_ids': [250004, 2646, 9351, 83, 310, 86532, 29814, 87, 1884, 47, 26983, 2], 'attention_mask': [1, 1, 1, 1, 1, 1, 1, 1, 1, 1, 1, 1]}"
            ]
          },
          "metadata": {},
          "execution_count": 24
        }
      ]
    },
    {
      "cell_type": "code",
      "source": [
        "tokenizer('छत्रपती शिवाजी महाराज ने अपनी अनुशासित सेना एवं सुसंगठित प्रशासनिक इकाइयों कि सहायता से एक योग्य एवं प्रगतिशील प्रशासन प्रदान किया। उन्होंने समर-विद्या में अनेक नवाचार किए तथा छापामार युध गोरिल्ला युद्धनीति Guerilla Warfare) की नई शैली (शिवसूत्र) विकसित की।')"
      ],
      "metadata": {
        "colab": {
          "base_uri": "https://localhost:8080/"
        },
        "id": "EPo2Ua6h-yYT",
        "outputId": "422b152b-4535-4557-d8b5-65c4551b8e4d"
      },
      "execution_count": 25,
      "outputs": [
        {
          "output_type": "execute_result",
          "data": {
            "text/plain": [
              "{'input_ids': [250004, 232698, 160162, 88255, 1142, 11047, 24949, 10419, 102891, 37237, 15132, 5224, 9100, 197837, 46584, 5725, 114522, 190885, 838, 1682, 124562, 646, 967, 65048, 15132, 150110, 52734, 46584, 43273, 4029, 125, 21191, 20488, 1393, 9, 221256, 421, 23934, 152468, 39106, 53536, 3511, 184098, 121246, 32479, 14808, 15837, 18992, 54693, 67114, 205506, 96274, 70773, 5550, 44937, 16, 471, 30124, 122487, 15, 194752, 222584, 16, 157113, 471, 125, 2], 'attention_mask': [1, 1, 1, 1, 1, 1, 1, 1, 1, 1, 1, 1, 1, 1, 1, 1, 1, 1, 1, 1, 1, 1, 1, 1, 1, 1, 1, 1, 1, 1, 1, 1, 1, 1, 1, 1, 1, 1, 1, 1, 1, 1, 1, 1, 1, 1, 1, 1, 1, 1, 1, 1, 1, 1, 1, 1, 1, 1, 1, 1, 1, 1, 1, 1, 1, 1, 1]}"
            ]
          },
          "metadata": {},
          "execution_count": 25
        }
      ]
    },
    {
      "cell_type": "code",
      "source": [
        "text='i like to travel'"
      ],
      "metadata": {
        "id": "Vz6ADP51_Tkk"
      },
      "execution_count": 26,
      "outputs": []
    },
    {
      "cell_type": "code",
      "source": [
        "tokenizer.src_lang='en_XX'\n",
        "encoded_en=tokenizer(text,return_tensors='pt')"
      ],
      "metadata": {
        "id": "6e19OTh7_hj1"
      },
      "execution_count": 27,
      "outputs": []
    },
    {
      "cell_type": "code",
      "source": [
        "encoded_en"
      ],
      "metadata": {
        "colab": {
          "base_uri": "https://localhost:8080/"
        },
        "id": "AUtL-T8N_kR_",
        "outputId": "65126d45-44fb-462a-b49d-72c9d31289e7"
      },
      "execution_count": 28,
      "outputs": [
        {
          "output_type": "execute_result",
          "data": {
            "text/plain": [
              "{'input_ids': tensor([[250004,     17,   1884,     47,  26983,      2]]), 'attention_mask': tensor([[1, 1, 1, 1, 1, 1]])}"
            ]
          },
          "metadata": {},
          "execution_count": 28
        }
      ]
    },
    {
      "cell_type": "code",
      "source": [
        "generated_tokens=model.generate(\n",
        "    **encoded_en,\n",
        "    forced_bos_token_id=tokenizer.lang_code_to_id['hi_IN']\n",
        ")"
      ],
      "metadata": {
        "id": "_Ry9wxBV_naT"
      },
      "execution_count": 29,
      "outputs": []
    },
    {
      "cell_type": "code",
      "source": [
        "generated_tokens"
      ],
      "metadata": {
        "colab": {
          "base_uri": "https://localhost:8080/"
        },
        "id": "XpBOcZiF_qKP",
        "outputId": "76e54568-73ad-46ba-9407-f4e217112ac5"
      },
      "execution_count": 30,
      "outputs": [
        {
          "output_type": "execute_result",
          "data": {
            "text/plain": [
              "tensor([[     2, 250010,  10399,  33572,  16835,  77949,  18224,  28035,      2]])"
            ]
          },
          "metadata": {},
          "execution_count": 30
        }
      ]
    },
    {
      "cell_type": "code",
      "source": [
        "tokenizer.batch_decode(generated_tokens,skip_special_tokens=True)"
      ],
      "metadata": {
        "colab": {
          "base_uri": "https://localhost:8080/"
        },
        "id": "RcGKL_NM_vea",
        "outputId": "f0dd4f43-5274-4849-ea15-1c7809f69182"
      },
      "execution_count": 31,
      "outputs": [
        {
          "output_type": "execute_result",
          "data": {
            "text/plain": [
              "['मैं यात्रा करना पसंद करता हूँ']"
            ]
          },
          "metadata": {},
          "execution_count": 31
        }
      ]
    },
    {
      "cell_type": "code",
      "source": [
        "def lang_trans(src='en_XX',out_lang='hi_IN',text=None):\n",
        "  tokenizer.src_lang=src\n",
        "  encoded_en=tokenizer(text,return_tensors='pt')\n",
        "\n",
        "  generated_tokens=model.generate(\n",
        "    **encoded_en,\n",
        "    forced_bos_token_id=tokenizer.lang_code_to_id['hi_IN']\n",
        "    )\n",
        "\n",
        "  return tokenizer.batch_decode(generated_tokens,skip_special_tokens=True)"
      ],
      "metadata": {
        "id": "gS2LeLJT_yOU"
      },
      "execution_count": 32,
      "outputs": []
    },
    {
      "cell_type": "code",
      "source": [
        "lang_trans(text='This was good')"
      ],
      "metadata": {
        "colab": {
          "base_uri": "https://localhost:8080/"
        },
        "id": "r9yHD9v3_2Ub",
        "outputId": "ea821fcf-830d-4000-bfc3-d5b3ddeff471"
      },
      "execution_count": 33,
      "outputs": [
        {
          "output_type": "execute_result",
          "data": {
            "text/plain": [
              "['यह अच्छा था']"
            ]
          },
          "metadata": {},
          "execution_count": 33
        }
      ]
    },
    {
      "cell_type": "code",
      "source": [
        "text='''Shivaji's legacy was to vary by observer and time, but nearly two centuries after his death he began to take on increased importance with the emergence of the Indian independence movement, as many Indian nationalists elevated him as a proto-nationalist and hero of the Hindus'''"
      ],
      "metadata": {
        "id": "tdR2oeT__5oa"
      },
      "execution_count": 34,
      "outputs": []
    },
    {
      "cell_type": "code",
      "source": [
        "lang_trans(src='en_XX',out_lang='hi_IN',text=text)"
      ],
      "metadata": {
        "colab": {
          "base_uri": "https://localhost:8080/"
        },
        "id": "3rNJ0CsaAIaG",
        "outputId": "2abb40ea-c182-42a0-d4a7-d4923aaf7ba2"
      },
      "execution_count": 35,
      "outputs": [
        {
          "output_type": "execute_result",
          "data": {
            "text/plain": [
              "['शिवजी की विरासत समय और प्रेक्षकों के अनुसार भिन्न होती थी, लेकिन उनकी मृत्यु के लगभग दो शताब्दियों बाद भारतीय स्वाधीनता आंदोलन के उदय के साथ उनका महत्व बढ़ने लगा, क्योंकि कई भारतीय राष्ट्रवादियों ने उन्हें एक पूर्व राष्ट्रवादी और हिन्दू नायक के रूप में उन्नयन किया।']"
            ]
          },
          "metadata": {},
          "execution_count": 35
        }
      ]
    },
    {
      "cell_type": "code",
      "source": [],
      "metadata": {
        "id": "T0e0EeFYAN5s"
      },
      "execution_count": null,
      "outputs": []
    }
  ]
}